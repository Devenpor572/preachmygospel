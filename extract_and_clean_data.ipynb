{
 "cells": [
  {
   "cell_type": "code",
   "execution_count": 14,
   "metadata": {},
   "outputs": [
    {
     "ename": "TypeError",
     "evalue": "unsupported operand type(s) for +: 'Tag' and 'str'",
     "output_type": "error",
     "traceback": [
      "\u001b[0;31m---------------------------------------------------------------------------\u001b[0m",
      "\u001b[0;31mTypeError\u001b[0m                                 Traceback (most recent call last)",
      "Cell \u001b[0;32mIn[14], line 18\u001b[0m\n\u001b[1;32m     16\u001b[0m \u001b[39mwith\u001b[39;00m \u001b[39mopen\u001b[39m(\u001b[39m'\u001b[39m\u001b[39moutput/test.txt\u001b[39m\u001b[39m'\u001b[39m, \u001b[39m'\u001b[39m\u001b[39mw\u001b[39m\u001b[39m'\u001b[39m) \u001b[39mas\u001b[39;00m output_file:\n\u001b[1;32m     17\u001b[0m     \u001b[39mfor\u001b[39;00m result \u001b[39min\u001b[39;00m results:\n\u001b[0;32m---> 18\u001b[0m         output_file\u001b[39m.\u001b[39mwrite(result \u001b[39m+\u001b[39;49m \u001b[39m'\u001b[39;49m\u001b[39m\\n\u001b[39;49;00m\u001b[39m\\n\u001b[39;49;00m\u001b[39m===SECTION===\u001b[39;49m\u001b[39m\\n\u001b[39;49;00m\u001b[39m\\n\u001b[39;49;00m\u001b[39m'\u001b[39;49m)\n",
      "\u001b[0;31mTypeError\u001b[0m: unsupported operand type(s) for +: 'Tag' and 'str'"
     ]
    }
   ],
   "source": [
    "from bs4 import BeautifulSoup\n",
    "import codecs\n",
    "\n",
    "\n",
    "def extract_selection(content, selectors):\n",
    "    if not selectors:\n",
    "        return content\n",
    "    results = BeautifulSoup(html_content).select(selectors[0])\n",
    "    if not results:\n",
    "        return content\n",
    "    return [extract_selection(result, selectors[1:]) for result in results]\n",
    "\n",
    "with codecs.open('chapter_content/v1_2004_missionary_service/04_1 What Is My Purpose as a Missionary .htm', 'r', 'utf-8') as f_in:\n",
    "    html_content = f_in.read()\n",
    "    results = extract_selection(html_content, ['.body-block section'])\n",
    "    with open('output/test.txt', 'w') as output_file:\n",
    "        for result in results:\n",
    "            output_file.write(result + '\\n\\n===SECTION===\\n\\n')\n"
   ]
  }
 ],
 "metadata": {
  "kernelspec": {
   "display_name": ".venv",
   "language": "python",
   "name": "python3"
  },
  "language_info": {
   "codemirror_mode": {
    "name": "ipython",
    "version": 3
   },
   "file_extension": ".py",
   "mimetype": "text/x-python",
   "name": "python",
   "nbconvert_exporter": "python",
   "pygments_lexer": "ipython3",
   "version": "3.8.10"
  },
  "orig_nbformat": 4
 },
 "nbformat": 4,
 "nbformat_minor": 2
}
